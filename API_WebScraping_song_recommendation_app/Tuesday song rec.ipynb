{
 "cells": [
  {
   "cell_type": "code",
   "execution_count": 1,
   "id": "67787c7f",
   "metadata": {},
   "outputs": [],
   "source": [
    "from bs4 import BeautifulSoup\n",
    "import requests\n",
    "import pandas as pd\n",
    "from random import choice\n",
    "\n",
    "#from difflib import SequenceMatcher Wasn't nescesary because get_close_matches was easier. But pretty cool anyhow.\n",
    "from difflib import get_close_matches"
   ]
  },
  {
   "cell_type": "markdown",
   "id": "b0b05498",
   "metadata": {},
   "source": [
    "**User experience:**\n",
    "\n",
    "- What happens if the user inputs a song that doesn't exist?\n",
    "- What do we do with songs that have the same name, but a different artist?\n",
    "- How do we deal with typos?\n",
    "\n",
    "**Architecture:**\n",
    "\n",
    "- Do we build the interaction with the user in the same notebook as the web-scraping?\n",
    "- Where do we store the scraped songs?\n",
    "\n",
    "**Scheduling / Automation:**\n",
    "\n",
    "- Should we scrape billboard / wikipedia every time a user sends a request?\n",
    "\n",
    "**Testing:**\n",
    "\n",
    "- Does it work when you test it with a real user (a colleague)?\n",
    "- Chances are that more issues will appear, and that not all of them will be solved during this session. But what's - important is that the issues have been identified."
   ]
  },
  {
   "cell_type": "code",
   "execution_count": 2,
   "id": "fabad030",
   "metadata": {},
   "outputs": [],
   "source": [
    "url=\"https://www.billboard.com/charts/hot-100/\""
   ]
  },
  {
   "cell_type": "code",
   "execution_count": 3,
   "id": "ab39a930",
   "metadata": {},
   "outputs": [],
   "source": [
    "response=requests.get(url)"
   ]
  },
  {
   "cell_type": "code",
   "execution_count": 4,
   "id": "d6082722",
   "metadata": {},
   "outputs": [
    {
     "data": {
      "text/plain": [
       "200"
      ]
     },
     "execution_count": 4,
     "metadata": {},
     "output_type": "execute_result"
    }
   ],
   "source": [
    "response.status_code"
   ]
  },
  {
   "cell_type": "code",
   "execution_count": 5,
   "id": "710ecbf7",
   "metadata": {},
   "outputs": [],
   "source": [
    "soup = BeautifulSoup(response.content, \"html.parser\")"
   ]
  },
  {
   "cell_type": "code",
   "execution_count": 6,
   "id": "a27c7f61",
   "metadata": {},
   "outputs": [],
   "source": [
    "length_of_list=len(soup.select(\"span.c-label.a-no-trucate\"))"
   ]
  },
  {
   "cell_type": "code",
   "execution_count": 7,
   "id": "48ce5b65",
   "metadata": {},
   "outputs": [],
   "source": [
    "artists=[]\n",
    "songs=[]\n",
    "for i in range(length_of_list):\n",
    "    artists.append(soup.select(\"span.c-label.a-no-trucate\")[i].get_text(strip=True))\n",
    "    songs.append(soup.select(\".o-chart-results-list__item > h3\")[i].get_text(strip=True))"
   ]
  },
  {
   "cell_type": "code",
   "execution_count": 8,
   "id": "dde2332c",
   "metadata": {},
   "outputs": [
    {
     "data": {
      "text/html": [
       "<div>\n",
       "<style scoped>\n",
       "    .dataframe tbody tr th:only-of-type {\n",
       "        vertical-align: middle;\n",
       "    }\n",
       "\n",
       "    .dataframe tbody tr th {\n",
       "        vertical-align: top;\n",
       "    }\n",
       "\n",
       "    .dataframe thead th {\n",
       "        text-align: right;\n",
       "    }\n",
       "</style>\n",
       "<table border=\"1\" class=\"dataframe\">\n",
       "  <thead>\n",
       "    <tr style=\"text-align: right;\">\n",
       "      <th></th>\n",
       "      <th>song</th>\n",
       "      <th>artist</th>\n",
       "    </tr>\n",
       "  </thead>\n",
       "  <tbody>\n",
       "    <tr>\n",
       "      <th>0</th>\n",
       "      <td>Anti-Hero</td>\n",
       "      <td>Taylor Swift</td>\n",
       "    </tr>\n",
       "    <tr>\n",
       "      <th>1</th>\n",
       "      <td>Rich Flex</td>\n",
       "      <td>Drake &amp; 21 Savage</td>\n",
       "    </tr>\n",
       "    <tr>\n",
       "      <th>2</th>\n",
       "      <td>Unholy</td>\n",
       "      <td>Sam Smith &amp; Kim Petras</td>\n",
       "    </tr>\n",
       "    <tr>\n",
       "      <th>3</th>\n",
       "      <td>Bad Habit</td>\n",
       "      <td>Steve Lacy</td>\n",
       "    </tr>\n",
       "    <tr>\n",
       "      <th>4</th>\n",
       "      <td>As It Was</td>\n",
       "      <td>Harry Styles</td>\n",
       "    </tr>\n",
       "    <tr>\n",
       "      <th>...</th>\n",
       "      <td>...</td>\n",
       "      <td>...</td>\n",
       "    </tr>\n",
       "    <tr>\n",
       "      <th>95</th>\n",
       "      <td>The Great War</td>\n",
       "      <td>Taylor Swift</td>\n",
       "    </tr>\n",
       "    <tr>\n",
       "      <th>96</th>\n",
       "      <td>Gotta Move On</td>\n",
       "      <td>Diddy &amp; Bryson Tiller</td>\n",
       "    </tr>\n",
       "    <tr>\n",
       "      <th>97</th>\n",
       "      <td>Forget Me</td>\n",
       "      <td>Lewis Capaldi</td>\n",
       "    </tr>\n",
       "    <tr>\n",
       "      <th>98</th>\n",
       "      <td>Going, Going, Gone</td>\n",
       "      <td>Luke Combs</td>\n",
       "    </tr>\n",
       "    <tr>\n",
       "      <th>99</th>\n",
       "      <td>Bigger Than The Whole Sky</td>\n",
       "      <td>Taylor Swift</td>\n",
       "    </tr>\n",
       "  </tbody>\n",
       "</table>\n",
       "<p>100 rows × 2 columns</p>\n",
       "</div>"
      ],
      "text/plain": [
       "                         song                  artist\n",
       "0                   Anti-Hero            Taylor Swift\n",
       "1                   Rich Flex       Drake & 21 Savage\n",
       "2                      Unholy  Sam Smith & Kim Petras\n",
       "3                   Bad Habit              Steve Lacy\n",
       "4                   As It Was            Harry Styles\n",
       "..                        ...                     ...\n",
       "95              The Great War            Taylor Swift\n",
       "96              Gotta Move On   Diddy & Bryson Tiller\n",
       "97                  Forget Me           Lewis Capaldi\n",
       "98         Going, Going, Gone              Luke Combs\n",
       "99  Bigger Than The Whole Sky            Taylor Swift\n",
       "\n",
       "[100 rows x 2 columns]"
      ]
     },
     "execution_count": 8,
     "metadata": {},
     "output_type": "execute_result"
    }
   ],
   "source": [
    "df=pd.DataFrame({\"song\":songs,\"artist\":artists})\n",
    "df"
   ]
  },
  {
   "cell_type": "markdown",
   "id": "5e1880fe",
   "metadata": {},
   "source": [
    "### User experience part"
   ]
  },
  {
   "cell_type": "code",
   "execution_count": 9,
   "id": "afdaf031",
   "metadata": {},
   "outputs": [
    {
     "name": "stdout",
     "output_type": "stream",
     "text": [
      "Write a song you like: f\n",
      "lol try again\n"
     ]
    }
   ],
   "source": [
    "song_req=input(\"Write a song you like: \")\n",
    "if song_req in list(df[\"song\"]):\n",
    "    new_rec=choice(list(df.drop(df.index[df['song']==song_req].to_list()[0],axis=0)['song']))\n",
    "    arti=df.loc[df.index[df['song']==new_rec].to_list()[0],'artist']\n",
    "    print(f\"You might also like '{new_rec}' by {arti}\")\n",
    "else:\n",
    "    print(\"lol try again\")\n",
    "    "
   ]
  },
  {
   "cell_type": "markdown",
   "id": "7b2a52d7",
   "metadata": {},
   "source": [
    "### Now where case doesn't matter"
   ]
  },
  {
   "cell_type": "code",
   "execution_count": 10,
   "id": "9c2750ab",
   "metadata": {},
   "outputs": [
    {
     "name": "stdout",
     "output_type": "stream",
     "text": [
      "Write a song you like: f\n",
      "Good you're not a basic bitch. Listen to 'The Watcher' by Dr. Dre to feel happy.\n"
     ]
    }
   ],
   "source": [
    "song_req=input(\"Write a song you like: \")\n",
    "\n",
    "\n",
    "if song_req.lower() in list(df[\"song\"].apply(lambda x: x.lower())):\n",
    "    new_rec=choice(list(df.drop(df.index[df['song'].apply(lambda x: x.lower())==song_req.lower()].to_list()[0],axis=0)[\"song\"]))\n",
    "    arti=df.loc[df.index[df['song'].apply(lambda x: x.lower())==new_rec.lower()].to_list()[0],'artist']\n",
    "    print(f\"You might also like '{new_rec}' by {arti}\")\n",
    "else:\n",
    "    print(\"Good you're not a basic bitch. Listen to 'The Watcher' by Dr. Dre to feel happy.\")\n",
    "    \n",
    "    "
   ]
  },
  {
   "cell_type": "code",
   "execution_count": 11,
   "id": "4c353fa5",
   "metadata": {},
   "outputs": [
    {
     "data": {
      "text/plain": [
       "1"
      ]
     },
     "execution_count": 11,
     "metadata": {},
     "output_type": "execute_result"
    }
   ],
   "source": [
    "df[\"artist\"].value_counts()[\"Joji\"]"
   ]
  },
  {
   "cell_type": "markdown",
   "id": "438dbdd3",
   "metadata": {},
   "source": [
    "### Now where we account for multiple songs with same name"
   ]
  },
  {
   "cell_type": "code",
   "execution_count": 12,
   "id": "cfad0d80",
   "metadata": {},
   "outputs": [],
   "source": [
    "def which_artist(name):\n",
    "    li=list(df[df[\"song\"]==name][\"artist\"])\n",
    "    for art in li:\n",
    "        ans=input(f\"Do you mean {name} by {art}? write y for yes, press any other key for no: \")\n",
    "        if ans.lower() ==\"y\":\n",
    "            return art\n",
    "            break\n",
    "        else:\n",
    "            if art==li[-1]:\n",
    "                print(\"Sorry, we didn't find the song you were looking for.\")\n",
    "                break\n",
    "            else:\n",
    "                continue"
   ]
  },
  {
   "cell_type": "code",
   "execution_count": 13,
   "id": "51f0aad6",
   "metadata": {},
   "outputs": [
    {
     "name": "stdout",
     "output_type": "stream",
     "text": [
      "Write a song you like: f\n",
      "Good you're not a basic bitch. Listen to 'The Watcher' by Dr. Dre to feel happy.\n"
     ]
    }
   ],
   "source": [
    "song_req=input(\"Write a song you like: \").lower()\n",
    "\n",
    "if song_req in list(df[\"song\"].apply(lambda x: x.lower())):\n",
    "    if df[\"song\"].apply(lambda x: x.lower()).value_counts()[song_req]>1:\n",
    "        print(\"We found more than one song matching this name\")\n",
    "        which_artist(song_req)\n",
    "    else:\n",
    "        new_rec=choice(list(df.drop(df.index[df['song'].apply(lambda x: x.lower())==song_req.lower()].to_list()[0],axis=0)[\"song\"]))\n",
    "        arti=df.loc[df.index[df['song'].apply(lambda x: x.lower())==new_rec.lower()].to_list()[0],'artist']\n",
    "        print(f\"You might also like '{new_rec}' by {arti}\")\n",
    "else:\n",
    "    print(\"Good you're not a basic bitch. Listen to 'The Watcher' by Dr. Dre to feel happy.\")\n",
    "    \n",
    "    "
   ]
  },
  {
   "cell_type": "markdown",
   "id": "2eddd1cb",
   "metadata": {},
   "source": [
    "### With typos"
   ]
  },
  {
   "cell_type": "code",
   "execution_count": 21,
   "id": "f488d6ad",
   "metadata": {},
   "outputs": [],
   "source": [
    "def str_similar(string):\n",
    "    match=get_close_matches(string,list(df[\"song\"].unique()),1)\n",
    "    if len(match)==1:\n",
    "        return match[0]\n",
    "    else:\n",
    "        return False"
   ]
  },
  {
   "cell_type": "code",
   "execution_count": 20,
   "id": "ea8839b0",
   "metadata": {},
   "outputs": [
    {
     "name": "stdout",
     "output_type": "stream",
     "text": [
      "Write a song you like: cheese\n",
      "Good you're not a basic bitch. Listen to 'The Watcher' by Dr. Dre to be happy.\n"
     ]
    }
   ],
   "source": [
    "song_req=input(\"Write a song you like: \").lower()\n",
    "\n",
    "if str_similar(song_req)!=False:\n",
    "    song_req=str_similar(song_req).lower()\n",
    "    if df[\"song\"].apply(lambda x: x.lower()).value_counts()[song_req]>1:\n",
    "        print(\"We found more than one song matching this name\")\n",
    "        which_artist(song_req)\n",
    "    else:\n",
    "        new_rec=choice(list(df.drop(df.index[df['song'].apply(lambda x: x.lower())==song_req.lower()].to_list()[0],axis=0)[\"song\"]))\n",
    "        arti=df.loc[df.index[df['song'].apply(lambda x: x.lower())==new_rec.lower()].to_list()[0],'artist']\n",
    "        print(f\"You might also like '{new_rec}' by {arti}\")\n",
    "else:\n",
    "    print(\"Good you're not a basic bitch. Listen to 'The Watcher' by Dr. Dre to be happy.\")\n",
    "    \n",
    "    "
   ]
  },
  {
   "cell_type": "code",
   "execution_count": 227,
   "id": "c780211d",
   "metadata": {},
   "outputs": [
    {
     "data": {
      "text/plain": [
       "['Unstoppable']"
      ]
     },
     "execution_count": 227,
     "metadata": {},
     "output_type": "execute_result"
    }
   ],
   "source": [
    "get_close_matches(\"unspoaple\",list(df[\"song\"].unique()),1)"
   ]
  },
  {
   "cell_type": "code",
   "execution_count": null,
   "id": "a4d3a43b",
   "metadata": {},
   "outputs": [],
   "source": []
  },
  {
   "cell_type": "code",
   "execution_count": null,
   "id": "8a37caaf",
   "metadata": {},
   "outputs": [],
   "source": []
  },
  {
   "cell_type": "code",
   "execution_count": null,
   "id": "1932bd17",
   "metadata": {},
   "outputs": [],
   "source": []
  },
  {
   "cell_type": "code",
   "execution_count": null,
   "id": "dfbbb77a",
   "metadata": {},
   "outputs": [],
   "source": []
  },
  {
   "cell_type": "code",
   "execution_count": null,
   "id": "c81b7e23",
   "metadata": {},
   "outputs": [],
   "source": []
  },
  {
   "cell_type": "code",
   "execution_count": null,
   "id": "f742f19d",
   "metadata": {},
   "outputs": [],
   "source": []
  }
 ],
 "metadata": {
  "kernelspec": {
   "display_name": "Python 3 (ipykernel)",
   "language": "python",
   "name": "python3"
  },
  "language_info": {
   "codemirror_mode": {
    "name": "ipython",
    "version": 3
   },
   "file_extension": ".py",
   "mimetype": "text/x-python",
   "name": "python",
   "nbconvert_exporter": "python",
   "pygments_lexer": "ipython3",
   "version": "3.9.12"
  }
 },
 "nbformat": 4,
 "nbformat_minor": 5
}
